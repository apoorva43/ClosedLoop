{
 "cells": [
  {
   "cell_type": "code",
   "execution_count": 1,
   "metadata": {},
   "outputs": [],
   "source": [
    "# Load contents of the raw EEG time-series data\n",
    "\n",
    "from scipy.io import loadmat\n",
    "data = loadmat('Matlab/eeg_data.mat')"
   ]
  },
  {
   "cell_type": "code",
   "execution_count": 2,
   "metadata": {},
   "outputs": [
    {
     "data": {
      "text/plain": [
       "dict_keys(['__header__', '__version__', '__globals__', 'eeg_data'])"
      ]
     },
     "execution_count": 2,
     "metadata": {},
     "output_type": "execute_result"
    }
   ],
   "source": [
    "data.keys()"
   ]
  },
  {
   "cell_type": "code",
   "execution_count": 3,
   "metadata": {},
   "outputs": [
    {
     "name": "stdout",
     "output_type": "stream",
     "text": [
      "(24, 724638)\n"
     ]
    }
   ],
   "source": [
    "eeg_data = data['eeg_data']\n",
    "print(eeg_data.shape) # 1 trial epoch, 24 channels, 724638 time samples"
   ]
  },
  {
   "cell_type": "code",
   "execution_count": 4,
   "metadata": {},
   "outputs": [
    {
     "data": {
      "text/plain": [
       "dict_keys(['__header__', '__version__', '__globals__', 'channelNames'])"
      ]
     },
     "execution_count": 4,
     "metadata": {},
     "output_type": "execute_result"
    }
   ],
   "source": [
    "# Load channel information\n",
    "\n",
    "channels = loadmat('Matlab/channel_names.mat')\n",
    "channels.keys()"
   ]
  },
  {
   "cell_type": "code",
   "execution_count": 5,
   "metadata": {},
   "outputs": [
    {
     "name": "stdout",
     "output_type": "stream",
     "text": [
      "[[array(['Fp1'], dtype='<U3') array(['Fp2'], dtype='<U3')\n",
      "  array(['F3'], dtype='<U2') array(['F4'], dtype='<U2')\n",
      "  array(['C3'], dtype='<U2') array(['C4'], dtype='<U2')\n",
      "  array(['P3'], dtype='<U2') array(['P4'], dtype='<U2')\n",
      "  array(['O1'], dtype='<U2') array(['O2'], dtype='<U2')\n",
      "  array(['F7'], dtype='<U2') array(['F8'], dtype='<U2')\n",
      "  array(['FC3'], dtype='<U3') array(['FC4'], dtype='<U3')\n",
      "  array(['P7'], dtype='<U2') array(['P8'], dtype='<U2')\n",
      "  array(['Fz'], dtype='<U2') array(['Cz'], dtype='<U2')\n",
      "  array(['Pz'], dtype='<U2') array(['FCz'], dtype='<U3')\n",
      "  array(['Oz'], dtype='<U2') array(['AFz'], dtype='<U3')\n",
      "  array(['CPz'], dtype='<U3') array(['POz'], dtype='<U3')]]\n"
     ]
    }
   ],
   "source": [
    "channel_names = channels['channelNames']\n",
    "print(channel_names) # 24 channels"
   ]
  },
  {
   "cell_type": "code",
   "execution_count": 6,
   "metadata": {},
   "outputs": [],
   "source": [
    "# Cz channel visualiztion before processing epochs\n",
    "\n",
    "%matplotlib inline\n",
    "import matplotlib.pyplot as plt\n",
    "import numpy as np\n",
    "\n",
    "Cz = eeg_data[17] # Cz channel"
   ]
  },
  {
   "cell_type": "code",
   "execution_count": 7,
   "metadata": {},
   "outputs": [
    {
     "data": {
      "image/png": "[encoded data removed]",
      "text/plain": [
       "<Figure size 432x288 with 1 Axes>"
      ]
     },
     "metadata": {
      "needs_background": "light"
     },
     "output_type": "display_data"
    }
   ],
   "source": [
    "x = np.arange(1, 724639)\n",
    "y = Cz\n",
    "plt.plot(x, y, label='1st epoch')\n",
    "plt.show()"
   ]
  },
  {
   "cell_type": "code",
   "execution_count": 8,
   "metadata": {},
   "outputs": [
    {
     "data": {
      "text/plain": [
       "5000"
      ]
     },
     "execution_count": 8,
     "metadata": {},
     "output_type": "execute_result"
    }
   ],
   "source": [
    "# Last 5,000 time samples only\n",
    "\n",
    "Cz_subset = eeg_data[17][-5000:]\n",
    "len(Cz_subset)"
   ]
  },
  {
   "cell_type": "code",
   "execution_count": 9,
   "metadata": {},
   "outputs": [
    {
     "data": {
      "image/png": "[encoded data removed]",
      "text/plain": [
       "<Figure size 432x288 with 1 Axes>"
      ]
     },
     "metadata": {
      "needs_background": "light"
     },
     "output_type": "display_data"
    }
   ],
   "source": [
    "x = np.arange(1, 5001)\n",
    "y = Cz_subset\n",
    "plt.plot(x, y, label='1st epoch subset')\n",
    "plt.show()"
   ]
  },
  {
   "cell_type": "code",
   "execution_count": 10,
   "metadata": {},
   "outputs": [],
   "source": [
    "# Pre-processing for each epoch\n",
    "\n",
    "from process import *\n",
    "from parameters import *"
   ]
  },
  {
   "cell_type": "code",
   "execution_count": 11,
   "metadata": {
    "scrolled": true
   },
   "outputs": [
    {
     "name": "stdout",
     "output_type": "stream",
     "text": [
      "No gradiometers found. Forcing n_grad to 0\n",
      "No magnetometers found. Forcing n_mag to 0\n",
      "Adding projection: eeg-1--0.100-7246.270-PCA-01\n",
      "Adding projection: eeg-1--0.100-7246.270-PCA-02\n",
      "Adding projection: eeg-1--0.100-7246.270-PCA-03\n",
      "Adding projection: eeg-1--0.100-7246.270-PCA-04\n",
      "Adding projection: eeg-1--0.100-7246.270-PCA-05\n",
      "1 projection items deactivated\n",
      "Created an SSP operator (subspace dimension = 1)\n",
      "1 projection items activated\n",
      "SSP projectors applied...\n",
      "(24, 724638)\n"
     ]
    }
   ],
   "source": [
    "# Processing without channel projection\n",
    "\n",
    "num_trials = 1\n",
    "epochs = []\n",
    "for i in range(num_trials):\n",
    "    eeg = eeg_data\n",
    "    epoch = preproc1epoch(eeg)\n",
    "    # print(epoch.shape)\n",
    "    epochs.append(epoch)"
   ]
  },
  {
   "cell_type": "code",
   "execution_count": 12,
   "metadata": {},
   "outputs": [
    {
     "name": "stdout",
     "output_type": "stream",
     "text": [
      "1\n",
      "(24, 724638)\n"
     ]
    }
   ],
   "source": [
    "print(len(epochs))\n",
    "print(epochs[0].shape)"
   ]
  },
  {
   "cell_type": "code",
   "execution_count": 13,
   "metadata": {},
   "outputs": [
    {
     "data": {
      "text/plain": [
       "724638"
      ]
     },
     "execution_count": 13,
     "metadata": {},
     "output_type": "execute_result"
    }
   ],
   "source": [
    "# Plot after preocessing\n",
    "\n",
    "Cz_ = epochs[0][17] # Cz = 18th channel\n",
    "len(Cz_)"
   ]
  },
  {
   "cell_type": "code",
   "execution_count": 14,
   "metadata": {},
   "outputs": [
    {
     "data": {
      "image/png": "[encoded data removed]",
      "text/plain": [
       "<Figure size 432x288 with 1 Axes>"
      ]
     },
     "metadata": {
      "needs_background": "light"
     },
     "output_type": "display_data"
    }
   ],
   "source": [
    "x = np.arange(1, 724639)\n",
    "y = Cz_\n",
    "plt.plot(x, y, label='1st epoch')\n",
    "plt.show()"
   ]
  },
  {
   "cell_type": "code",
   "execution_count": 15,
   "metadata": {},
   "outputs": [
    {
     "data": {
      "text/plain": [
       "5000"
      ]
     },
     "execution_count": 15,
     "metadata": {},
     "output_type": "execute_result"
    }
   ],
   "source": [
    "# Last 5,000 time samples only\n",
    "\n",
    "Cz_subset_ = epochs[0][17][-5000:]\n",
    "len(Cz_subset_)"
   ]
  },
  {
   "cell_type": "code",
   "execution_count": 16,
   "metadata": {},
   "outputs": [
    {
     "data": {
      "image/png": "[encoded data removed]",
      "text/plain": [
       "<Figure size 432x288 with 1 Axes>"
      ]
     },
     "metadata": {
      "needs_background": "light"
     },
     "output_type": "display_data"
    }
   ],
   "source": [
    "x = np.arange(1, 5001)\n",
    "y = Cz_subset\n",
    "plt.plot(x, y, label='1st epoch subset')\n",
    "plt.show()"
   ]
  },
  {
   "cell_type": "code",
   "execution_count": null,
   "metadata": {},
   "outputs": [],
   "source": []
  }
 ],
 "metadata": {
  "kernelspec": {
   "display_name": "Python 3",
   "language": "python",
   "name": "python3"
  },
  "language_info": {
   "codemirror_mode": {
    "name": "ipython",
    "version": 3
   },
   "file_extension": ".py",
   "mimetype": "text/x-python",
   "name": "python",
   "nbconvert_exporter": "python",
   "pygments_lexer": "ipython3",
   "version": "3.7.6"
  }
 },
 "nbformat": 4,
 "nbformat_minor": 4
}
