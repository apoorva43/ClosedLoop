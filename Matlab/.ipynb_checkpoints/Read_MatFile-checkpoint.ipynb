{
 "cells": [
  {
   "cell_type": "code",
   "execution_count": 1,
   "metadata": {},
   "outputs": [],
   "source": [
    "from scipy import io\n",
    "mat = io.loadmat('sampleEEG.mat')"
   ]
  },
  {
   "cell_type": "code",
   "execution_count": 2,
   "metadata": {},
   "outputs": [
    {
     "data": {
      "text/plain": [
       "{'__header__': b'MATLAB 5.0 MAT-file, Platform: GLNXA64, Created on: Wed Feb 24 12:26:42 2021',\n",
       " '__version__': '1.0',\n",
       " '__globals__': ['EEG'],\n",
       " 'EEG': array([[(array([], dtype='<U1'), array([], dtype='<U1'), array([], dtype='<U1'), array([], dtype='<U1'), array([], dtype='<U1'), array([], dtype='<U1'), array([], shape=(0, 0), dtype=uint8), array([], dtype='<U1'), array([[24]], dtype=uint8), array([[1]], dtype=uint8), array([[1407740]], dtype=int32), array([[250]], dtype=uint8), array([[0]], dtype=uint8), array([[5630.956]]), array([[ -1.   ,  -0.996,  -0.992, ..., 199.992, 199.996, 200.   ]]), array([[[-3.98732491e+01,  6.57071590e+00, -6.09638357e+00, ...,\n",
       "          -5.64488335e+01, -6.65542507e+00, -1.80095447e+03],\n",
       "         [-4.18870087e+01,  7.47704983e+00, -6.27698421e+00, ...,\n",
       "          -6.09452095e+01,  3.50514460e+00, -1.82804443e+03],\n",
       "         [-3.81172791e+01,  1.53208113e+01, -5.51188231e+00, ...,\n",
       "          -6.43894424e+01,  3.25547051e+00, -1.84795361e+03],\n",
       "         ...,\n",
       "         [-3.12744541e+01,  6.45852137e+00, -6.92556667e+00, ...,\n",
       "           1.58015337e+01,  3.22096634e+01,  7.38067169e+01],\n",
       "         [-3.25439415e+01,  4.42736053e+00, -5.15043199e-01, ...,\n",
       "           1.03511810e+01,  2.47294846e+01,  8.77508774e+01],\n",
       "         [-3.21389999e+01, -2.40057945e+00,  3.25914919e-01, ...,\n",
       "           5.66926527e+00,  2.17543850e+01,  6.51544189e+01]],\n",
       " \n",
       "        [[-4.17427368e+01, -7.86488008e+00, -3.36815929e+00, ...,\n",
       "          -5.11388817e+01,  5.57655811e+00, -1.79666272e+03],\n",
       "         [-4.00738831e+01, -1.07822695e+01,  1.90158939e+00, ...,\n",
       "          -5.41545486e+01,  7.38723755e+00, -1.81937134e+03],\n",
       "         [-3.13948917e+01, -6.27389002e+00,  5.60249519e+00, ...,\n",
       "          -5.98630066e+01,  1.05012274e+01, -1.84546008e+03],\n",
       "         ...,\n",
       "         [-3.38970718e+01,  1.35778522e+01,  1.10369034e+01, ...,\n",
       "          -9.56300354e+00,  2.56761971e+01,  5.17270584e+01],\n",
       "         [-3.55878067e+01,  1.19873953e+01,  1.01699829e+01, ...,\n",
       "          -8.12143898e+00,  1.99694023e+01,  6.06552544e+01],\n",
       "         [-4.02279701e+01,  2.67629552e+00,  1.27520740e+00, ...,\n",
       "          -2.34516025e+00,  1.39803276e+01,  4.27206230e+01]],\n",
       " \n",
       "        [[ 7.29497433e+00,  9.18874893e+01, -1.33962265e+02, ...,\n",
       "          -3.88910789e+01, -4.50107813e+00, -1.52965015e+03],\n",
       "         [ 1.24064856e+01,  9.72269516e+01, -1.16356735e+02, ...,\n",
       "          -3.18772144e+01, -5.90627909e+00, -1.55466492e+03],\n",
       "         [ 1.50766821e+01,  1.05164024e+02, -1.03635437e+02, ...,\n",
       "          -2.46136856e+01, -5.77750397e+00, -1.58211121e+03],\n",
       "         ...,\n",
       "         [-5.04312515e+00, -9.16555309e+00,  1.36727409e+01, ...,\n",
       "          -1.05434787e+00, -1.04662199e+01,  2.54417133e+01],\n",
       "         [-2.80181313e+00, -2.03297687e+00,  7.82831287e+00, ...,\n",
       "          -3.14155746e+00, -1.29226809e+01,  3.59111061e+01],\n",
       "         [-7.07176018e+00,  6.89555264e+00,  5.82331324e+00, ...,\n",
       "          -2.43354321e+00, -1.33062401e+01,  3.22170525e+01]],\n",
       " \n",
       "        ...,\n",
       " \n",
       "        [[ 1.31018715e+01, -5.94545746e+01,  3.04666209e+00, ...,\n",
       "          -2.51594887e+01,  1.62320938e+01, -1.81888354e+03],\n",
       "         [ 1.46335373e+01, -6.41539001e+01,  6.06061602e+00, ...,\n",
       "          -3.13905334e+01,  1.40805616e+01, -1.84400037e+03],\n",
       "         [ 1.50206738e+01, -6.87176208e+01,  5.28684187e+00, ...,\n",
       "          -3.61386795e+01,  1.09118938e+01, -1.86784961e+03],\n",
       "         ...,\n",
       "         [-7.45722628e+00, -3.14772224e+00, -1.02069867e+00, ...,\n",
       "           7.61297417e+00,  2.03650150e+01,  5.95121117e+01],\n",
       "         [-1.10066032e+01, -1.37282658e+00,  2.32933092e+00, ...,\n",
       "           6.87947178e+00,  1.58068008e+01,  7.33251648e+01],\n",
       "         [-1.33978567e+01, -1.21499598e+00,  5.77277422e+00, ...,\n",
       "           5.57210350e+00,  1.10603991e+01,  5.88650322e+01]],\n",
       " \n",
       "        [[ 8.22620201e+00, -4.73916292e+00,  8.84849644e+00, ...,\n",
       "           1.95708504e+01, -9.03803825e+00, -1.73401355e+03],\n",
       "         [ 9.52852058e+00, -1.53050590e+00,  6.65264034e+00, ...,\n",
       "           1.75281696e+01, -6.76917505e+00, -1.76009607e+03],\n",
       "         [ 8.79032612e+00,  9.48645175e-01,  5.46979189e+00, ...,\n",
       "           1.51894407e+01, -4.07566071e+00, -1.78493616e+03],\n",
       "         ...,\n",
       "         [ 1.12421942e+01,  1.95484650e+00, -4.24340606e-01, ...,\n",
       "          -7.76450872e+00, -9.63506317e+00,  5.09902039e+01],\n",
       "         [ 1.17097178e+01, -1.76516187e+00, -1.26386476e+00, ...,\n",
       "          -9.41981792e+00, -6.95105886e+00,  6.51287003e+01],\n",
       "         [ 1.16483335e+01, -5.26662779e+00, -1.85892117e+00, ...,\n",
       "          -1.00436487e+01, -5.22382021e+00,  5.43055458e+01]],\n",
       " \n",
       "        [[ 1.48084955e+01,  9.43971157e+00,  5.03830814e+00, ...,\n",
       "           1.54624949e+01, -1.31937275e+01, -1.77798950e+03],\n",
       "         [ 1.56103773e+01,  2.80120349e+00,  1.89253306e+00, ...,\n",
       "           1.75619526e+01, -6.18292141e+00, -1.80235095e+03],\n",
       "         [ 1.28413944e+01, -1.05280666e+01,  2.91419644e-02, ...,\n",
       "           2.09934998e+01, -1.32821083e+00, -1.82668115e+03],\n",
       "         ...,\n",
       "         [ 1.75280704e+01, -5.86190891e+00,  4.50740814e+00, ...,\n",
       "          -7.63405085e+00, -1.82738514e+01,  4.90009575e+01],\n",
       "         [ 1.72953377e+01, -1.31123543e+01,  5.75977945e+00, ...,\n",
       "          -6.92936659e+00, -1.45967407e+01,  5.92214317e+01],\n",
       "         [ 1.69319897e+01, -1.50422649e+01,  6.12359285e+00, ...,\n",
       "          -5.88371515e+00, -9.88462734e+00,  4.66446686e+01]]]), array([], shape=(0, 0), dtype=uint8), array([], shape=(0, 0), dtype=uint8), array([], shape=(0, 0), dtype=uint8), array([], shape=(0, 0), dtype=uint8), array([], shape=(0, 0), dtype=uint8), array([[(array(['Fp1'], dtype='<U3'), array([[0.87041671]]), array([[0.27]]), array([[-0.34145834]]), array([[17.37180874]]), array([[2.19946881]]), array([[0.9049559]]), array([[-17.23369445]]), array([[0.91133158]]), array([[1]], dtype=uint8), array(['average'], dtype='<U7'), array([], dtype='<U1')),\n",
       "         (array(['Fp2'], dtype='<U3'), array([[0.87041671]]), array([[-0.27]]), array([[-0.34145834]]), array([[-17.37244463]]), array([[2.19946118]]), array([[0.90495904]]), array([[17.23369445]]), array([[0.91133158]]), array([[2]], dtype=uint8), array(['average'], dtype='<U7'), array([], dtype='<U1')),\n",
       "         (array(['F3'], dtype='<U2'), array([[0.63041665]]), array([[0.46999998]]), array([[0.09854167]]), array([[37.0292467]]), array([[31.31178367]]), array([[0.91348012]]), array([[-36.70595257]]), array([[0.78633653]]), array([[3]], dtype=uint8), array(['average'], dtype='<U7'), array([], dtype='<U1')),\n",
       "         (array(['F4'], dtype='<U2'), array([[0.63041665]]), array([[-0.46999998]]), array([[0.09854167]]), array([[-37.02986302]]), array([[31.31157724]]), array([[0.91348554]]), array([[36.70595257]]), array([[0.78633653]]), array([[4]], dtype=uint8), array(['average'], dtype='<U7'), array([], dtype='<U1')),\n",
       "         (array(['C3'], dtype='<U2'), array([[0.01041667]]), array([[0.60999999]]), array([[0.26854165]]), array([[89.71426027]]), array([[46.58543043]]), array([[0.88757013]]), array([[-89.02168326]]), array([[0.61008892]]), array([[5]], dtype=uint8), array(['average'], dtype='<U7'), array([], dtype='<U1')),\n",
       "         (array(['C4'], dtype='<U2'), array([[0.01041667]]), array([[-0.60999999]]), array([[0.26854165]]), array([[-89.71426519]]), array([[46.58493734]]), array([[0.88757736]]), array([[89.02168326]]), array([[0.61008892]]), array([[6]], dtype=uint8), array(['average'], dtype='<U7'), array([], dtype='<U1')),\n",
       "         (array(['P3'], dtype='<U2'), array([[-0.60958331]]), array([[0.46999998]]), array([[0.09854167]]), array([[142.70007115]]), array([[31.47055033]]), array([[0.90934122]]), array([[-142.3671137]]), array([[0.76973489]]), array([[7]], dtype=uint8), array(['average'], dtype='<U7'), array([], dtype='<U1')),\n",
       "         (array(['P4'], dtype='<U2'), array([[-0.60958331]]), array([[-0.46999998]]), array([[0.09854167]]), array([[-142.69945319]]), array([[31.47034071]]), array([[0.90934666]]), array([[142.3671137]]), array([[0.76973489]]), array([[8]], dtype=uint8), array(['average'], dtype='<U7'), array([], dtype='<U1')),\n",
       "         (array(['O1'], dtype='<U2'), array([[-0.84958337]]), array([[0.27]]), array([[-0.34145834]]), array([[162.51234871]]), array([[2.21366498]]), array([[0.8991553]]), array([[-162.36959574]]), array([[0.89145494]]), array([[9]], dtype=uint8), array(['average'], dtype='<U7'), array([], dtype='<U1')),\n",
       "         (array(['O2'], dtype='<U2'), array([[-0.84958337]]), array([[-0.27]]), array([[-0.34145834]]), array([[-162.51170912]]), array([[2.21365721]]), array([[0.89915846]]), array([[162.36959574]]), array([[0.89145494]]), array([[10]], dtype=uint8), array(['average'], dtype='<U7'), array([], dtype='<U1')),\n",
       "         (array(['F7'], dtype='<U2'), array([[0.53041665]]), array([[0.66999998]]), array([[-0.34145834]]), array([[52.02205145]]), array([[2.33985167]]), array([[0.85068926]]), array([[-51.63251467]]), array([[0.85454186]]), array([[11]], dtype=uint8), array(['average'], dtype='<U7'), array([], dtype='<U1')),\n",
       "         (array(['F8'], dtype='<U2'), array([[0.53041665]]), array([[-0.66999998]]), array([[-0.34145834]]), array([[-52.02248764]]), array([[2.33982887]]), array([[0.85069754]]), array([[51.63251467]]), array([[0.85454186]]), array([[12]], dtype=uint8), array(['average'], dtype='<U7'), array([], dtype='<U1')),\n",
       "         (array(['FC3'], dtype='<U3'), array([[0.32041666]]), array([[0.54000001]]), array([[0.18354171]]), array([[59.89856168]]), array([[41.88444191]]), array([[0.83838441]]), array([[-59.3166244]]), array([[0.62790672]]), array([[13]], dtype=uint8), array(['average'], dtype='<U7'), array([], dtype='<U1')),\n",
       "         (array(['FC4'], dtype='<U3'), array([[0.32041666]]), array([[-0.54000001]]), array([[0.18354171]]), array([[-59.89904581]]), array([[41.88402683]]), array([[0.83839119]]), array([[59.3166244]]), array([[0.62790672]]), array([[14]], dtype=uint8), array(['average'], dtype='<U7'), array([], dtype='<U1')),\n",
       "         (array(['P7'], dtype='<U2'), array([[-0.50958331]]), array([[0.66999998]]), array([[-0.34145834]]), array([[127.65323766]]), array([[2.35015458]]), array([[0.84696197]]), array([[-127.25560698]]), array([[0.84176905]]), array([[15]], dtype=uint8), array(['average'], dtype='<U7'), array([], dtype='<U1')),\n",
       "         (array(['P8'], dtype='<U2'), array([[-0.50958331]]), array([[-0.66999998]]), array([[-0.34145834]]), array([[-127.65280273]]), array([[2.35013148]]), array([[0.84697029]]), array([[127.25560698]]), array([[0.84176905]]), array([[16]], dtype=uint8), array(['average'], dtype='<U7'), array([], dtype='<U1')),\n",
       "         (array(['Fz'], dtype='<U2'), array([[0.68041665]]), array([[-1.10745323e-16]]), array([[0.24854167]]), array([[-0.0004476]]), array([[42.86807797]]), array([[0.91829972]]), array([[9.32552075e-15]]), array([[0.68041665]]), array([[17]], dtype=uint8), array(['average'], dtype='<U7'), array([], dtype='<U1')),\n",
       "         (array(['Cz'], dtype='<U2'), array([[0.01041667]]), array([[1.23988683e-17]]), array([[0.49854167]]), array([[-0.0990278]]), array([[89.80073788]]), array([[0.87473619]]), array([[-6.81986515e-14]]), array([[0.01041667]]), array([[18]], dtype=uint8), array(['average'], dtype='<U7'), array([], dtype='<U1')),\n",
       "         (array(['Pz'], dtype='<U2'), array([[-0.65958331]]), array([[1.37006732e-16]]), array([[0.24854167]]), array([[-179.99954831]]), array([[43.12759479]]), array([[0.91384981]]), array([[-180]], dtype=int16), array([[0.65958331]]), array([[19]], dtype=uint8), array(['average'], dtype='<U7'), array([], dtype='<U1')),\n",
       "         (array(['FCz'], dtype='<U3'), array([[0.34041666]]), array([[-4.82876543e-17]]), array([[0.37354167]]), array([[-0.00090456]]), array([[66.04846336]]), array([[0.82037399]]), array([[8.12733064e-15]]), array([[0.34041666]]), array([[20]], dtype=uint8), array(['average'], dtype='<U7'), array([], dtype='<U1')),\n",
       "         (array(['Oz'], dtype='<U2'), array([[-0.84958337]]), array([[1.82221351e-16]]), array([[-0.34145834]]), array([[-179.99964846]]), array([[2.32081995]]), array([[0.85766141]]), array([[-180]], dtype=int16), array([[0.84958337]]), array([[21]], dtype=uint8), array(['average'], dtype='<U7'), array([], dtype='<U1')),\n",
       "         (array(['AFz'], dtype='<U3'), array([[0.84041669]]), array([[-1.40135672e-16]]), array([[-0.01145832]]), array([[-0.00036163]]), array([[23.64524959]]), array([[0.90938873]]), array([[9.55381142e-15]]), array([[0.84041669]]), array([[22]], dtype=uint8), array(['average'], dtype='<U7'), array([], dtype='<U1')),\n",
       "         (array(['CPz'], dtype='<U3'), array([[-0.32958334]]), array([[-5.40423961e-17]]), array([[0.42854169]]), array([[-179.99910595]]), array([[67.27990677]]), array([[0.87242906]]), array([[180]], dtype=uint8), array([[0.32958334]]), array([[23]], dtype=uint8), array(['average'], dtype='<U7'), array([], dtype='<U1')),\n",
       "         (array(['POz'], dtype='<U3'), array([[-0.81958335]]), array([[3.46816793e-16]]), array([[-0.01145832]]), array([[-179.99963571]]), array([[23.79994328]]), array([[0.90381856]]), array([[-180.]]), array([[0.81958335]]), array([[24]], dtype=uint8), array(['average'], dtype='<U7'), array([], dtype='<U1'))]],\n",
       "       dtype=[('labels', 'O'), ('X', 'O'), ('Y', 'O'), ('Z', 'O'), ('sph_theta', 'O'), ('sph_phi', 'O'), ('sph_radius', 'O'), ('theta', 'O'), ('radius', 'O'), ('urchan', 'O'), ('ref', 'O'), ('type', 'O')]), array([], shape=(0, 0), dtype=uint8), array([[(array([], shape=(0, 0), dtype=uint8), array([], shape=(0, 0), dtype=uint8), array(['+X'], dtype='<U2'), array([], shape=(0, 0), dtype=uint8), array([], shape=(0, 0), dtype=uint8))]],\n",
       "       dtype=[('plotrad', 'O'), ('shrink', 'O'), ('nosedir', 'O'), ('nodatchans', 'O'), ('icachansind', 'O')]), array(['average'], dtype='<U7'), array([[(array(['4000'], dtype='<U4'), array([[45451.95303671]]), array([[0]], dtype=uint8)),\n",
       "         (array(['stim'], dtype='<U4'), array([[45451.95303671]]), array([[0]], dtype=uint8)),\n",
       "         (array(['10'], dtype='<U2'), array([[46462.56033611]]), array([[0]], dtype=uint8)),\n",
       "         ...,\n",
       "         (array(['14'], dtype='<U2'), array([[5601714.49452266]]), array([[0]], dtype=uint8)),\n",
       "         (array(['16'], dtype='<U2'), array([[5602227.67732199]]), array([[0]], dtype=uint8)),\n",
       "         (array(['801'], dtype='<U3'), array([[5602717.19862241]]), array([[0]], dtype=uint8))]],\n",
       "       dtype=[('type', 'O'), ('latency', 'O'), ('duration', 'O')]), array([], shape=(0, 0), dtype=object), array([], shape=(0, 0), dtype=uint8), array([], shape=(0, 0), dtype=object), array([[(array([], shape=(0, 0), dtype=uint8), array([], shape=(0, 0), dtype=uint8), array([], shape=(0, 0), dtype=uint8), array([], shape=(0, 0), dtype=uint8), array([], shape=(0, 0), dtype=uint8), array([], shape=(0, 0), dtype=uint8), array([], shape=(0, 0), dtype=uint8), array([], shape=(0, 0), dtype=uint8), array([], shape=(0, 0), dtype=uint8), array([], shape=(0, 0), dtype=uint8), array([], shape=(0, 0), dtype=uint8), array([], shape=(0, 0), dtype=uint8), array([], shape=(0, 0), dtype=uint8), array([], shape=(0, 0), dtype=uint8), array([], shape=(0, 0), dtype=uint8), array([], shape=(0, 0), dtype=uint8), array([], shape=(0, 0), dtype=uint8), array([], shape=(0, 0), dtype=uint8), array([], shape=(0, 0), dtype=uint8), array([], shape=(0, 0), dtype=uint8), array([], shape=(0, 0), dtype=uint8), array([], shape=(0, 0), dtype=uint8), array([], shape=(0, 0), dtype=uint8), array([], shape=(0, 0), dtype=uint8), array([], shape=(0, 0), dtype=uint8), array([], shape=(0, 0), dtype=uint8), array([[1.   , 1.   , 0.783]]), array([[0.8487, 1.    , 0.5008]]), array([[0.694 , 1.    , 0.7008]]), array([[1.    , 0.6991, 0.7537]]), array([[0.688 , 0.7042, 1.    ]]), array([[0.9596, 0.7193, 1.    ]]), array([], shape=(0, 0), dtype=object), array([[0.8, 0.8, 0.8]]), array([[600]], dtype=uint16), array([[600]], dtype=uint16), array([[600]], dtype=uint16), array([], shape=(0, 0), dtype=uint8))]],\n",
       "       dtype=[('rejjpE', 'O'), ('rejjp', 'O'), ('rejkurtE', 'O'), ('rejkurt', 'O'), ('rejmanualE', 'O'), ('rejmanual', 'O'), ('rejthreshE', 'O'), ('rejthresh', 'O'), ('rejconstE', 'O'), ('rejconst', 'O'), ('rejfreqE', 'O'), ('rejfreq', 'O'), ('icarejjpE', 'O'), ('icarejjp', 'O'), ('icarejkurtE', 'O'), ('icarejkurt', 'O'), ('icarejmanualE', 'O'), ('icarejmanual', 'O'), ('icarejthreshE', 'O'), ('icarejthresh', 'O'), ('icarejconstE', 'O'), ('icarejconst', 'O'), ('icarejfreqE', 'O'), ('icarejfreq', 'O'), ('rejglobal', 'O'), ('rejglobalE', 'O'), ('rejmanualcol', 'O'), ('rejthreshcol', 'O'), ('rejconstcol', 'O'), ('rejjpcol', 'O'), ('rejkurtcol', 'O'), ('rejfreqcol', 'O'), ('disprej', 'O'), ('threshold', 'O'), ('threshentropy', 'O'), ('threshkurtact', 'O'), ('threshkurtdist', 'O'), ('gcompreject', 'O')]), array([[(array([], shape=(0, 0), dtype=uint8), array([], shape=(0, 0), dtype=uint8), array([], shape=(0, 0), dtype=uint8), array([], shape=(0, 0), dtype=uint8), array([], shape=(0, 0), dtype=uint8), array([], shape=(0, 0), dtype=uint8), array([], shape=(0, 0), dtype=uint8), array([], shape=(0, 0), dtype=uint8), array([], shape=(0, 0), dtype=uint8), array([], shape=(0, 0), dtype=uint8), array([], shape=(0, 0), dtype=uint8), array([], shape=(0, 0), dtype=uint8), array([], shape=(0, 0), dtype=uint8))]],\n",
       "       dtype=[('jp', 'O'), ('jpE', 'O'), ('icajp', 'O'), ('icajpE', 'O'), ('kurt', 'O'), ('kurtE', 'O'), ('icakurt', 'O'), ('icakurtE', 'O'), ('compenta', 'O'), ('compentr', 'O'), ('compkurta', 'O'), ('compkurtr', 'O'), ('compkurtdist', 'O')]), array([], shape=(0, 0), dtype=uint8), array([], shape=(0, 0), dtype=uint8), array([], dtype='<U1'), array([], dtype='<U1'), array([], shape=(0, 0), dtype=uint8), array([\"\\nEEG.etc.eeglabvers = '2020.0'; % this tracks which version of EEGLAB is being used, you may ignore it\"],\n",
       "       dtype='<U102'), array(['no'], dtype='<U2'), array([[(array(['2020.0'], dtype='<U6'),)]], dtype=[('eeglabvers', 'O')]), array([], shape=(0, 0), dtype=uint8), array([[(array(['4000'], dtype='<U4'), array([[45451.95303671]]), array([[1]], dtype=uint8), array([[0]], dtype=uint8)),\n",
       "         (array(['stim'], dtype='<U4'), array([[45451.95303671]]), array([[2]], dtype=uint8), array([[0]], dtype=uint8)),\n",
       "         (array(['10'], dtype='<U2'), array([[46462.56033611]]), array([[3]], dtype=uint8), array([[0]], dtype=uint8)),\n",
       "         ...,\n",
       "         (array(['14'], dtype='<U2'), array([[5601714.49452266]]), array([[6262]], dtype=uint16), array([[0]], dtype=uint8)),\n",
       "         (array(['16'], dtype='<U2'), array([[5602227.67732199]]), array([[6263]], dtype=uint16), array([[0]], dtype=uint8)),\n",
       "         (array(['801'], dtype='<U3'), array([[5602717.19862241]]), array([[6264]], dtype=uint16), array([[0]], dtype=uint8))]],\n",
       "       dtype=[('type', 'O'), ('latency', 'O'), ('urevent', 'O'), ('duration', 'O')]))]],\n",
       "       dtype=[('setname', 'O'), ('filename', 'O'), ('filepath', 'O'), ('subject', 'O'), ('group', 'O'), ('condition', 'O'), ('session', 'O'), ('comments', 'O'), ('nbchan', 'O'), ('trials', 'O'), ('pnts', 'O'), ('srate', 'O'), ('xmin', 'O'), ('xmax', 'O'), ('times', 'O'), ('data', 'O'), ('icaact', 'O'), ('icawinv', 'O'), ('icasphere', 'O'), ('icaweights', 'O'), ('icachansind', 'O'), ('chanlocs', 'O'), ('urchanlocs', 'O'), ('chaninfo', 'O'), ('ref', 'O'), ('urevent', 'O'), ('eventdescription', 'O'), ('epoch', 'O'), ('epochdescription', 'O'), ('reject', 'O'), ('stats', 'O'), ('specdata', 'O'), ('specicaact', 'O'), ('splinefile', 'O'), ('icasplinefile', 'O'), ('dipfit', 'O'), ('history', 'O'), ('saved', 'O'), ('etc', 'O'), ('run', 'O'), ('event', 'O')])}"
      ]
     },
     "execution_count": 2,
     "metadata": {},
     "output_type": "execute_result"
    }
   ],
   "source": [
    "mat"
   ]
  },
  {
   "cell_type": "code",
   "execution_count": 3,
   "metadata": {},
   "outputs": [
    {
     "data": {
      "text/plain": [
       "array([[(array([], dtype='<U1'), array([], dtype='<U1'), array([], dtype='<U1'), array([], dtype='<U1'), array([], dtype='<U1'), array([], dtype='<U1'), array([], shape=(0, 0), dtype=uint8), array([], dtype='<U1'), array([[24]], dtype=uint8), array([[1]], dtype=uint8), array([[1407740]], dtype=int32), array([[250]], dtype=uint8), array([[0]], dtype=uint8), array([[5630.956]]), array([[ -1.   ,  -0.996,  -0.992, ..., 199.992, 199.996, 200.   ]]), array([[[-3.98732491e+01,  6.57071590e+00, -6.09638357e+00, ...,\n",
       "         -5.64488335e+01, -6.65542507e+00, -1.80095447e+03],\n",
       "        [-4.18870087e+01,  7.47704983e+00, -6.27698421e+00, ...,\n",
       "         -6.09452095e+01,  3.50514460e+00, -1.82804443e+03],\n",
       "        [-3.81172791e+01,  1.53208113e+01, -5.51188231e+00, ...,\n",
       "         -6.43894424e+01,  3.25547051e+00, -1.84795361e+03],\n",
       "        ...,\n",
       "        [-3.12744541e+01,  6.45852137e+00, -6.92556667e+00, ...,\n",
       "          1.58015337e+01,  3.22096634e+01,  7.38067169e+01],\n",
       "        [-3.25439415e+01,  4.42736053e+00, -5.15043199e-01, ...,\n",
       "          1.03511810e+01,  2.47294846e+01,  8.77508774e+01],\n",
       "        [-3.21389999e+01, -2.40057945e+00,  3.25914919e-01, ...,\n",
       "          5.66926527e+00,  2.17543850e+01,  6.51544189e+01]],\n",
       "\n",
       "       [[-4.17427368e+01, -7.86488008e+00, -3.36815929e+00, ...,\n",
       "         -5.11388817e+01,  5.57655811e+00, -1.79666272e+03],\n",
       "        [-4.00738831e+01, -1.07822695e+01,  1.90158939e+00, ...,\n",
       "         -5.41545486e+01,  7.38723755e+00, -1.81937134e+03],\n",
       "        [-3.13948917e+01, -6.27389002e+00,  5.60249519e+00, ...,\n",
       "         -5.98630066e+01,  1.05012274e+01, -1.84546008e+03],\n",
       "        ...,\n",
       "        [-3.38970718e+01,  1.35778522e+01,  1.10369034e+01, ...,\n",
       "         -9.56300354e+00,  2.56761971e+01,  5.17270584e+01],\n",
       "        [-3.55878067e+01,  1.19873953e+01,  1.01699829e+01, ...,\n",
       "         -8.12143898e+00,  1.99694023e+01,  6.06552544e+01],\n",
       "        [-4.02279701e+01,  2.67629552e+00,  1.27520740e+00, ...,\n",
       "         -2.34516025e+00,  1.39803276e+01,  4.27206230e+01]],\n",
       "\n",
       "       [[ 7.29497433e+00,  9.18874893e+01, -1.33962265e+02, ...,\n",
       "         -3.88910789e+01, -4.50107813e+00, -1.52965015e+03],\n",
       "        [ 1.24064856e+01,  9.72269516e+01, -1.16356735e+02, ...,\n",
       "         -3.18772144e+01, -5.90627909e+00, -1.55466492e+03],\n",
       "        [ 1.50766821e+01,  1.05164024e+02, -1.03635437e+02, ...,\n",
       "         -2.46136856e+01, -5.77750397e+00, -1.58211121e+03],\n",
       "        ...,\n",
       "        [-5.04312515e+00, -9.16555309e+00,  1.36727409e+01, ...,\n",
       "         -1.05434787e+00, -1.04662199e+01,  2.54417133e+01],\n",
       "        [-2.80181313e+00, -2.03297687e+00,  7.82831287e+00, ...,\n",
       "         -3.14155746e+00, -1.29226809e+01,  3.59111061e+01],\n",
       "        [-7.07176018e+00,  6.89555264e+00,  5.82331324e+00, ...,\n",
       "         -2.43354321e+00, -1.33062401e+01,  3.22170525e+01]],\n",
       "\n",
       "       ...,\n",
       "\n",
       "       [[ 1.31018715e+01, -5.94545746e+01,  3.04666209e+00, ...,\n",
       "         -2.51594887e+01,  1.62320938e+01, -1.81888354e+03],\n",
       "        [ 1.46335373e+01, -6.41539001e+01,  6.06061602e+00, ...,\n",
       "         -3.13905334e+01,  1.40805616e+01, -1.84400037e+03],\n",
       "        [ 1.50206738e+01, -6.87176208e+01,  5.28684187e+00, ...,\n",
       "         -3.61386795e+01,  1.09118938e+01, -1.86784961e+03],\n",
       "        ...,\n",
       "        [-7.45722628e+00, -3.14772224e+00, -1.02069867e+00, ...,\n",
       "          7.61297417e+00,  2.03650150e+01,  5.95121117e+01],\n",
       "        [-1.10066032e+01, -1.37282658e+00,  2.32933092e+00, ...,\n",
       "          6.87947178e+00,  1.58068008e+01,  7.33251648e+01],\n",
       "        [-1.33978567e+01, -1.21499598e+00,  5.77277422e+00, ...,\n",
       "          5.57210350e+00,  1.10603991e+01,  5.88650322e+01]],\n",
       "\n",
       "       [[ 8.22620201e+00, -4.73916292e+00,  8.84849644e+00, ...,\n",
       "          1.95708504e+01, -9.03803825e+00, -1.73401355e+03],\n",
       "        [ 9.52852058e+00, -1.53050590e+00,  6.65264034e+00, ...,\n",
       "          1.75281696e+01, -6.76917505e+00, -1.76009607e+03],\n",
       "        [ 8.79032612e+00,  9.48645175e-01,  5.46979189e+00, ...,\n",
       "          1.51894407e+01, -4.07566071e+00, -1.78493616e+03],\n",
       "        ...,\n",
       "        [ 1.12421942e+01,  1.95484650e+00, -4.24340606e-01, ...,\n",
       "         -7.76450872e+00, -9.63506317e+00,  5.09902039e+01],\n",
       "        [ 1.17097178e+01, -1.76516187e+00, -1.26386476e+00, ...,\n",
       "         -9.41981792e+00, -6.95105886e+00,  6.51287003e+01],\n",
       "        [ 1.16483335e+01, -5.26662779e+00, -1.85892117e+00, ...,\n",
       "         -1.00436487e+01, -5.22382021e+00,  5.43055458e+01]],\n",
       "\n",
       "       [[ 1.48084955e+01,  9.43971157e+00,  5.03830814e+00, ...,\n",
       "          1.54624949e+01, -1.31937275e+01, -1.77798950e+03],\n",
       "        [ 1.56103773e+01,  2.80120349e+00,  1.89253306e+00, ...,\n",
       "          1.75619526e+01, -6.18292141e+00, -1.80235095e+03],\n",
       "        [ 1.28413944e+01, -1.05280666e+01,  2.91419644e-02, ...,\n",
       "          2.09934998e+01, -1.32821083e+00, -1.82668115e+03],\n",
       "        ...,\n",
       "        [ 1.75280704e+01, -5.86190891e+00,  4.50740814e+00, ...,\n",
       "         -7.63405085e+00, -1.82738514e+01,  4.90009575e+01],\n",
       "        [ 1.72953377e+01, -1.31123543e+01,  5.75977945e+00, ...,\n",
       "         -6.92936659e+00, -1.45967407e+01,  5.92214317e+01],\n",
       "        [ 1.69319897e+01, -1.50422649e+01,  6.12359285e+00, ...,\n",
       "         -5.88371515e+00, -9.88462734e+00,  4.66446686e+01]]]), array([], shape=(0, 0), dtype=uint8), array([], shape=(0, 0), dtype=uint8), array([], shape=(0, 0), dtype=uint8), array([], shape=(0, 0), dtype=uint8), array([], shape=(0, 0), dtype=uint8), array([[(array(['Fp1'], dtype='<U3'), array([[0.87041671]]), array([[0.27]]), array([[-0.34145834]]), array([[17.37180874]]), array([[2.19946881]]), array([[0.9049559]]), array([[-17.23369445]]), array([[0.91133158]]), array([[1]], dtype=uint8), array(['average'], dtype='<U7'), array([], dtype='<U1')),\n",
       "        (array(['Fp2'], dtype='<U3'), array([[0.87041671]]), array([[-0.27]]), array([[-0.34145834]]), array([[-17.37244463]]), array([[2.19946118]]), array([[0.90495904]]), array([[17.23369445]]), array([[0.91133158]]), array([[2]], dtype=uint8), array(['average'], dtype='<U7'), array([], dtype='<U1')),\n",
       "        (array(['F3'], dtype='<U2'), array([[0.63041665]]), array([[0.46999998]]), array([[0.09854167]]), array([[37.0292467]]), array([[31.31178367]]), array([[0.91348012]]), array([[-36.70595257]]), array([[0.78633653]]), array([[3]], dtype=uint8), array(['average'], dtype='<U7'), array([], dtype='<U1')),\n",
       "        (array(['F4'], dtype='<U2'), array([[0.63041665]]), array([[-0.46999998]]), array([[0.09854167]]), array([[-37.02986302]]), array([[31.31157724]]), array([[0.91348554]]), array([[36.70595257]]), array([[0.78633653]]), array([[4]], dtype=uint8), array(['average'], dtype='<U7'), array([], dtype='<U1')),\n",
       "        (array(['C3'], dtype='<U2'), array([[0.01041667]]), array([[0.60999999]]), array([[0.26854165]]), array([[89.71426027]]), array([[46.58543043]]), array([[0.88757013]]), array([[-89.02168326]]), array([[0.61008892]]), array([[5]], dtype=uint8), array(['average'], dtype='<U7'), array([], dtype='<U1')),\n",
       "        (array(['C4'], dtype='<U2'), array([[0.01041667]]), array([[-0.60999999]]), array([[0.26854165]]), array([[-89.71426519]]), array([[46.58493734]]), array([[0.88757736]]), array([[89.02168326]]), array([[0.61008892]]), array([[6]], dtype=uint8), array(['average'], dtype='<U7'), array([], dtype='<U1')),\n",
       "        (array(['P3'], dtype='<U2'), array([[-0.60958331]]), array([[0.46999998]]), array([[0.09854167]]), array([[142.70007115]]), array([[31.47055033]]), array([[0.90934122]]), array([[-142.3671137]]), array([[0.76973489]]), array([[7]], dtype=uint8), array(['average'], dtype='<U7'), array([], dtype='<U1')),\n",
       "        (array(['P4'], dtype='<U2'), array([[-0.60958331]]), array([[-0.46999998]]), array([[0.09854167]]), array([[-142.69945319]]), array([[31.47034071]]), array([[0.90934666]]), array([[142.3671137]]), array([[0.76973489]]), array([[8]], dtype=uint8), array(['average'], dtype='<U7'), array([], dtype='<U1')),\n",
       "        (array(['O1'], dtype='<U2'), array([[-0.84958337]]), array([[0.27]]), array([[-0.34145834]]), array([[162.51234871]]), array([[2.21366498]]), array([[0.8991553]]), array([[-162.36959574]]), array([[0.89145494]]), array([[9]], dtype=uint8), array(['average'], dtype='<U7'), array([], dtype='<U1')),\n",
       "        (array(['O2'], dtype='<U2'), array([[-0.84958337]]), array([[-0.27]]), array([[-0.34145834]]), array([[-162.51170912]]), array([[2.21365721]]), array([[0.89915846]]), array([[162.36959574]]), array([[0.89145494]]), array([[10]], dtype=uint8), array(['average'], dtype='<U7'), array([], dtype='<U1')),\n",
       "        (array(['F7'], dtype='<U2'), array([[0.53041665]]), array([[0.66999998]]), array([[-0.34145834]]), array([[52.02205145]]), array([[2.33985167]]), array([[0.85068926]]), array([[-51.63251467]]), array([[0.85454186]]), array([[11]], dtype=uint8), array(['average'], dtype='<U7'), array([], dtype='<U1')),\n",
       "        (array(['F8'], dtype='<U2'), array([[0.53041665]]), array([[-0.66999998]]), array([[-0.34145834]]), array([[-52.02248764]]), array([[2.33982887]]), array([[0.85069754]]), array([[51.63251467]]), array([[0.85454186]]), array([[12]], dtype=uint8), array(['average'], dtype='<U7'), array([], dtype='<U1')),\n",
       "        (array(['FC3'], dtype='<U3'), array([[0.32041666]]), array([[0.54000001]]), array([[0.18354171]]), array([[59.89856168]]), array([[41.88444191]]), array([[0.83838441]]), array([[-59.3166244]]), array([[0.62790672]]), array([[13]], dtype=uint8), array(['average'], dtype='<U7'), array([], dtype='<U1')),\n",
       "        (array(['FC4'], dtype='<U3'), array([[0.32041666]]), array([[-0.54000001]]), array([[0.18354171]]), array([[-59.89904581]]), array([[41.88402683]]), array([[0.83839119]]), array([[59.3166244]]), array([[0.62790672]]), array([[14]], dtype=uint8), array(['average'], dtype='<U7'), array([], dtype='<U1')),\n",
       "        (array(['P7'], dtype='<U2'), array([[-0.50958331]]), array([[0.66999998]]), array([[-0.34145834]]), array([[127.65323766]]), array([[2.35015458]]), array([[0.84696197]]), array([[-127.25560698]]), array([[0.84176905]]), array([[15]], dtype=uint8), array(['average'], dtype='<U7'), array([], dtype='<U1')),\n",
       "        (array(['P8'], dtype='<U2'), array([[-0.50958331]]), array([[-0.66999998]]), array([[-0.34145834]]), array([[-127.65280273]]), array([[2.35013148]]), array([[0.84697029]]), array([[127.25560698]]), array([[0.84176905]]), array([[16]], dtype=uint8), array(['average'], dtype='<U7'), array([], dtype='<U1')),\n",
       "        (array(['Fz'], dtype='<U2'), array([[0.68041665]]), array([[-1.10745323e-16]]), array([[0.24854167]]), array([[-0.0004476]]), array([[42.86807797]]), array([[0.91829972]]), array([[9.32552075e-15]]), array([[0.68041665]]), array([[17]], dtype=uint8), array(['average'], dtype='<U7'), array([], dtype='<U1')),\n",
       "        (array(['Cz'], dtype='<U2'), array([[0.01041667]]), array([[1.23988683e-17]]), array([[0.49854167]]), array([[-0.0990278]]), array([[89.80073788]]), array([[0.87473619]]), array([[-6.81986515e-14]]), array([[0.01041667]]), array([[18]], dtype=uint8), array(['average'], dtype='<U7'), array([], dtype='<U1')),\n",
       "        (array(['Pz'], dtype='<U2'), array([[-0.65958331]]), array([[1.37006732e-16]]), array([[0.24854167]]), array([[-179.99954831]]), array([[43.12759479]]), array([[0.91384981]]), array([[-180]], dtype=int16), array([[0.65958331]]), array([[19]], dtype=uint8), array(['average'], dtype='<U7'), array([], dtype='<U1')),\n",
       "        (array(['FCz'], dtype='<U3'), array([[0.34041666]]), array([[-4.82876543e-17]]), array([[0.37354167]]), array([[-0.00090456]]), array([[66.04846336]]), array([[0.82037399]]), array([[8.12733064e-15]]), array([[0.34041666]]), array([[20]], dtype=uint8), array(['average'], dtype='<U7'), array([], dtype='<U1')),\n",
       "        (array(['Oz'], dtype='<U2'), array([[-0.84958337]]), array([[1.82221351e-16]]), array([[-0.34145834]]), array([[-179.99964846]]), array([[2.32081995]]), array([[0.85766141]]), array([[-180]], dtype=int16), array([[0.84958337]]), array([[21]], dtype=uint8), array(['average'], dtype='<U7'), array([], dtype='<U1')),\n",
       "        (array(['AFz'], dtype='<U3'), array([[0.84041669]]), array([[-1.40135672e-16]]), array([[-0.01145832]]), array([[-0.00036163]]), array([[23.64524959]]), array([[0.90938873]]), array([[9.55381142e-15]]), array([[0.84041669]]), array([[22]], dtype=uint8), array(['average'], dtype='<U7'), array([], dtype='<U1')),\n",
       "        (array(['CPz'], dtype='<U3'), array([[-0.32958334]]), array([[-5.40423961e-17]]), array([[0.42854169]]), array([[-179.99910595]]), array([[67.27990677]]), array([[0.87242906]]), array([[180]], dtype=uint8), array([[0.32958334]]), array([[23]], dtype=uint8), array(['average'], dtype='<U7'), array([], dtype='<U1')),\n",
       "        (array(['POz'], dtype='<U3'), array([[-0.81958335]]), array([[3.46816793e-16]]), array([[-0.01145832]]), array([[-179.99963571]]), array([[23.79994328]]), array([[0.90381856]]), array([[-180.]]), array([[0.81958335]]), array([[24]], dtype=uint8), array(['average'], dtype='<U7'), array([], dtype='<U1'))]],\n",
       "      dtype=[('labels', 'O'), ('X', 'O'), ('Y', 'O'), ('Z', 'O'), ('sph_theta', 'O'), ('sph_phi', 'O'), ('sph_radius', 'O'), ('theta', 'O'), ('radius', 'O'), ('urchan', 'O'), ('ref', 'O'), ('type', 'O')]), array([], shape=(0, 0), dtype=uint8), array([[(array([], shape=(0, 0), dtype=uint8), array([], shape=(0, 0), dtype=uint8), array(['+X'], dtype='<U2'), array([], shape=(0, 0), dtype=uint8), array([], shape=(0, 0), dtype=uint8))]],\n",
       "      dtype=[('plotrad', 'O'), ('shrink', 'O'), ('nosedir', 'O'), ('nodatchans', 'O'), ('icachansind', 'O')]), array(['average'], dtype='<U7'), array([[(array(['4000'], dtype='<U4'), array([[45451.95303671]]), array([[0]], dtype=uint8)),\n",
       "        (array(['stim'], dtype='<U4'), array([[45451.95303671]]), array([[0]], dtype=uint8)),\n",
       "        (array(['10'], dtype='<U2'), array([[46462.56033611]]), array([[0]], dtype=uint8)),\n",
       "        ...,\n",
       "        (array(['14'], dtype='<U2'), array([[5601714.49452266]]), array([[0]], dtype=uint8)),\n",
       "        (array(['16'], dtype='<U2'), array([[5602227.67732199]]), array([[0]], dtype=uint8)),\n",
       "        (array(['801'], dtype='<U3'), array([[5602717.19862241]]), array([[0]], dtype=uint8))]],\n",
       "      dtype=[('type', 'O'), ('latency', 'O'), ('duration', 'O')]), array([], shape=(0, 0), dtype=object), array([], shape=(0, 0), dtype=uint8), array([], shape=(0, 0), dtype=object), array([[(array([], shape=(0, 0), dtype=uint8), array([], shape=(0, 0), dtype=uint8), array([], shape=(0, 0), dtype=uint8), array([], shape=(0, 0), dtype=uint8), array([], shape=(0, 0), dtype=uint8), array([], shape=(0, 0), dtype=uint8), array([], shape=(0, 0), dtype=uint8), array([], shape=(0, 0), dtype=uint8), array([], shape=(0, 0), dtype=uint8), array([], shape=(0, 0), dtype=uint8), array([], shape=(0, 0), dtype=uint8), array([], shape=(0, 0), dtype=uint8), array([], shape=(0, 0), dtype=uint8), array([], shape=(0, 0), dtype=uint8), array([], shape=(0, 0), dtype=uint8), array([], shape=(0, 0), dtype=uint8), array([], shape=(0, 0), dtype=uint8), array([], shape=(0, 0), dtype=uint8), array([], shape=(0, 0), dtype=uint8), array([], shape=(0, 0), dtype=uint8), array([], shape=(0, 0), dtype=uint8), array([], shape=(0, 0), dtype=uint8), array([], shape=(0, 0), dtype=uint8), array([], shape=(0, 0), dtype=uint8), array([], shape=(0, 0), dtype=uint8), array([], shape=(0, 0), dtype=uint8), array([[1.   , 1.   , 0.783]]), array([[0.8487, 1.    , 0.5008]]), array([[0.694 , 1.    , 0.7008]]), array([[1.    , 0.6991, 0.7537]]), array([[0.688 , 0.7042, 1.    ]]), array([[0.9596, 0.7193, 1.    ]]), array([], shape=(0, 0), dtype=object), array([[0.8, 0.8, 0.8]]), array([[600]], dtype=uint16), array([[600]], dtype=uint16), array([[600]], dtype=uint16), array([], shape=(0, 0), dtype=uint8))]],\n",
       "      dtype=[('rejjpE', 'O'), ('rejjp', 'O'), ('rejkurtE', 'O'), ('rejkurt', 'O'), ('rejmanualE', 'O'), ('rejmanual', 'O'), ('rejthreshE', 'O'), ('rejthresh', 'O'), ('rejconstE', 'O'), ('rejconst', 'O'), ('rejfreqE', 'O'), ('rejfreq', 'O'), ('icarejjpE', 'O'), ('icarejjp', 'O'), ('icarejkurtE', 'O'), ('icarejkurt', 'O'), ('icarejmanualE', 'O'), ('icarejmanual', 'O'), ('icarejthreshE', 'O'), ('icarejthresh', 'O'), ('icarejconstE', 'O'), ('icarejconst', 'O'), ('icarejfreqE', 'O'), ('icarejfreq', 'O'), ('rejglobal', 'O'), ('rejglobalE', 'O'), ('rejmanualcol', 'O'), ('rejthreshcol', 'O'), ('rejconstcol', 'O'), ('rejjpcol', 'O'), ('rejkurtcol', 'O'), ('rejfreqcol', 'O'), ('disprej', 'O'), ('threshold', 'O'), ('threshentropy', 'O'), ('threshkurtact', 'O'), ('threshkurtdist', 'O'), ('gcompreject', 'O')]), array([[(array([], shape=(0, 0), dtype=uint8), array([], shape=(0, 0), dtype=uint8), array([], shape=(0, 0), dtype=uint8), array([], shape=(0, 0), dtype=uint8), array([], shape=(0, 0), dtype=uint8), array([], shape=(0, 0), dtype=uint8), array([], shape=(0, 0), dtype=uint8), array([], shape=(0, 0), dtype=uint8), array([], shape=(0, 0), dtype=uint8), array([], shape=(0, 0), dtype=uint8), array([], shape=(0, 0), dtype=uint8), array([], shape=(0, 0), dtype=uint8), array([], shape=(0, 0), dtype=uint8))]],\n",
       "      dtype=[('jp', 'O'), ('jpE', 'O'), ('icajp', 'O'), ('icajpE', 'O'), ('kurt', 'O'), ('kurtE', 'O'), ('icakurt', 'O'), ('icakurtE', 'O'), ('compenta', 'O'), ('compentr', 'O'), ('compkurta', 'O'), ('compkurtr', 'O'), ('compkurtdist', 'O')]), array([], shape=(0, 0), dtype=uint8), array([], shape=(0, 0), dtype=uint8), array([], dtype='<U1'), array([], dtype='<U1'), array([], shape=(0, 0), dtype=uint8), array([\"\\nEEG.etc.eeglabvers = '2020.0'; % this tracks which version of EEGLAB is being used, you may ignore it\"],\n",
       "      dtype='<U102'), array(['no'], dtype='<U2'), array([[(array(['2020.0'], dtype='<U6'),)]], dtype=[('eeglabvers', 'O')]), array([], shape=(0, 0), dtype=uint8), array([[(array(['4000'], dtype='<U4'), array([[45451.95303671]]), array([[1]], dtype=uint8), array([[0]], dtype=uint8)),\n",
       "        (array(['stim'], dtype='<U4'), array([[45451.95303671]]), array([[2]], dtype=uint8), array([[0]], dtype=uint8)),\n",
       "        (array(['10'], dtype='<U2'), array([[46462.56033611]]), array([[3]], dtype=uint8), array([[0]], dtype=uint8)),\n",
       "        ...,\n",
       "        (array(['14'], dtype='<U2'), array([[5601714.49452266]]), array([[6262]], dtype=uint16), array([[0]], dtype=uint8)),\n",
       "        (array(['16'], dtype='<U2'), array([[5602227.67732199]]), array([[6263]], dtype=uint16), array([[0]], dtype=uint8)),\n",
       "        (array(['801'], dtype='<U3'), array([[5602717.19862241]]), array([[6264]], dtype=uint16), array([[0]], dtype=uint8))]],\n",
       "      dtype=[('type', 'O'), ('latency', 'O'), ('urevent', 'O'), ('duration', 'O')]))]],\n",
       "      dtype=[('setname', 'O'), ('filename', 'O'), ('filepath', 'O'), ('subject', 'O'), ('group', 'O'), ('condition', 'O'), ('session', 'O'), ('comments', 'O'), ('nbchan', 'O'), ('trials', 'O'), ('pnts', 'O'), ('srate', 'O'), ('xmin', 'O'), ('xmax', 'O'), ('times', 'O'), ('data', 'O'), ('icaact', 'O'), ('icawinv', 'O'), ('icasphere', 'O'), ('icaweights', 'O'), ('icachansind', 'O'), ('chanlocs', 'O'), ('urchanlocs', 'O'), ('chaninfo', 'O'), ('ref', 'O'), ('urevent', 'O'), ('eventdescription', 'O'), ('epoch', 'O'), ('epochdescription', 'O'), ('reject', 'O'), ('stats', 'O'), ('specdata', 'O'), ('specicaact', 'O'), ('splinefile', 'O'), ('icasplinefile', 'O'), ('dipfit', 'O'), ('history', 'O'), ('saved', 'O'), ('etc', 'O'), ('run', 'O'), ('event', 'O')])"
      ]
     },
     "execution_count": 3,
     "metadata": {},
     "output_type": "execute_result"
    }
   ],
   "source": [
    "mat['EEG']"
   ]
  },
  {
   "cell_type": "code",
   "execution_count": 4,
   "metadata": {},
   "outputs": [
    {
     "data": {
      "text/plain": [
       "[('setname', '|O'),\n",
       " ('filename', '|O'),\n",
       " ('filepath', '|O'),\n",
       " ('subject', '|O'),\n",
       " ('group', '|O'),\n",
       " ('condition', '|O'),\n",
       " ('session', '|O'),\n",
       " ('comments', '|O'),\n",
       " ('nbchan', '|O'),\n",
       " ('trials', '|O'),\n",
       " ('pnts', '|O'),\n",
       " ('srate', '|O'),\n",
       " ('xmin', '|O'),\n",
       " ('xmax', '|O'),\n",
       " ('times', '|O'),\n",
       " ('data', '|O'),\n",
       " ('icaact', '|O'),\n",
       " ('icawinv', '|O'),\n",
       " ('icasphere', '|O'),\n",
       " ('icaweights', '|O'),\n",
       " ('icachansind', '|O'),\n",
       " ('chanlocs', '|O'),\n",
       " ('urchanlocs', '|O'),\n",
       " ('chaninfo', '|O'),\n",
       " ('ref', '|O'),\n",
       " ('urevent', '|O'),\n",
       " ('eventdescription', '|O'),\n",
       " ('epoch', '|O'),\n",
       " ('epochdescription', '|O'),\n",
       " ('reject', '|O'),\n",
       " ('stats', '|O'),\n",
       " ('specdata', '|O'),\n",
       " ('specicaact', '|O'),\n",
       " ('splinefile', '|O'),\n",
       " ('icasplinefile', '|O'),\n",
       " ('dipfit', '|O'),\n",
       " ('history', '|O'),\n",
       " ('saved', '|O'),\n",
       " ('etc', '|O'),\n",
       " ('run', '|O'),\n",
       " ('event', '|O')]"
      ]
     },
     "execution_count": 4,
     "metadata": {},
     "output_type": "execute_result"
    }
   ],
   "source": [
    "mat['EEG'][0,0].dtype.descr"
   ]
  },
  {
   "cell_type": "code",
   "execution_count": 5,
   "metadata": {},
   "outputs": [
    {
     "data": {
      "text/plain": [
       "array([[(array(['Fp1'], dtype='<U3'), array([[0.87041671]]), array([[0.27]]), array([[-0.34145834]]), array([[17.37180874]]), array([[2.19946881]]), array([[0.9049559]]), array([[-17.23369445]]), array([[0.91133158]]), array([[1]], dtype=uint8), array(['average'], dtype='<U7'), array([], dtype='<U1')),\n",
       "        (array(['Fp2'], dtype='<U3'), array([[0.87041671]]), array([[-0.27]]), array([[-0.34145834]]), array([[-17.37244463]]), array([[2.19946118]]), array([[0.90495904]]), array([[17.23369445]]), array([[0.91133158]]), array([[2]], dtype=uint8), array(['average'], dtype='<U7'), array([], dtype='<U1')),\n",
       "        (array(['F3'], dtype='<U2'), array([[0.63041665]]), array([[0.46999998]]), array([[0.09854167]]), array([[37.0292467]]), array([[31.31178367]]), array([[0.91348012]]), array([[-36.70595257]]), array([[0.78633653]]), array([[3]], dtype=uint8), array(['average'], dtype='<U7'), array([], dtype='<U1')),\n",
       "        (array(['F4'], dtype='<U2'), array([[0.63041665]]), array([[-0.46999998]]), array([[0.09854167]]), array([[-37.02986302]]), array([[31.31157724]]), array([[0.91348554]]), array([[36.70595257]]), array([[0.78633653]]), array([[4]], dtype=uint8), array(['average'], dtype='<U7'), array([], dtype='<U1')),\n",
       "        (array(['C3'], dtype='<U2'), array([[0.01041667]]), array([[0.60999999]]), array([[0.26854165]]), array([[89.71426027]]), array([[46.58543043]]), array([[0.88757013]]), array([[-89.02168326]]), array([[0.61008892]]), array([[5]], dtype=uint8), array(['average'], dtype='<U7'), array([], dtype='<U1')),\n",
       "        (array(['C4'], dtype='<U2'), array([[0.01041667]]), array([[-0.60999999]]), array([[0.26854165]]), array([[-89.71426519]]), array([[46.58493734]]), array([[0.88757736]]), array([[89.02168326]]), array([[0.61008892]]), array([[6]], dtype=uint8), array(['average'], dtype='<U7'), array([], dtype='<U1')),\n",
       "        (array(['P3'], dtype='<U2'), array([[-0.60958331]]), array([[0.46999998]]), array([[0.09854167]]), array([[142.70007115]]), array([[31.47055033]]), array([[0.90934122]]), array([[-142.3671137]]), array([[0.76973489]]), array([[7]], dtype=uint8), array(['average'], dtype='<U7'), array([], dtype='<U1')),\n",
       "        (array(['P4'], dtype='<U2'), array([[-0.60958331]]), array([[-0.46999998]]), array([[0.09854167]]), array([[-142.69945319]]), array([[31.47034071]]), array([[0.90934666]]), array([[142.3671137]]), array([[0.76973489]]), array([[8]], dtype=uint8), array(['average'], dtype='<U7'), array([], dtype='<U1')),\n",
       "        (array(['O1'], dtype='<U2'), array([[-0.84958337]]), array([[0.27]]), array([[-0.34145834]]), array([[162.51234871]]), array([[2.21366498]]), array([[0.8991553]]), array([[-162.36959574]]), array([[0.89145494]]), array([[9]], dtype=uint8), array(['average'], dtype='<U7'), array([], dtype='<U1')),\n",
       "        (array(['O2'], dtype='<U2'), array([[-0.84958337]]), array([[-0.27]]), array([[-0.34145834]]), array([[-162.51170912]]), array([[2.21365721]]), array([[0.89915846]]), array([[162.36959574]]), array([[0.89145494]]), array([[10]], dtype=uint8), array(['average'], dtype='<U7'), array([], dtype='<U1')),\n",
       "        (array(['F7'], dtype='<U2'), array([[0.53041665]]), array([[0.66999998]]), array([[-0.34145834]]), array([[52.02205145]]), array([[2.33985167]]), array([[0.85068926]]), array([[-51.63251467]]), array([[0.85454186]]), array([[11]], dtype=uint8), array(['average'], dtype='<U7'), array([], dtype='<U1')),\n",
       "        (array(['F8'], dtype='<U2'), array([[0.53041665]]), array([[-0.66999998]]), array([[-0.34145834]]), array([[-52.02248764]]), array([[2.33982887]]), array([[0.85069754]]), array([[51.63251467]]), array([[0.85454186]]), array([[12]], dtype=uint8), array(['average'], dtype='<U7'), array([], dtype='<U1')),\n",
       "        (array(['FC3'], dtype='<U3'), array([[0.32041666]]), array([[0.54000001]]), array([[0.18354171]]), array([[59.89856168]]), array([[41.88444191]]), array([[0.83838441]]), array([[-59.3166244]]), array([[0.62790672]]), array([[13]], dtype=uint8), array(['average'], dtype='<U7'), array([], dtype='<U1')),\n",
       "        (array(['FC4'], dtype='<U3'), array([[0.32041666]]), array([[-0.54000001]]), array([[0.18354171]]), array([[-59.89904581]]), array([[41.88402683]]), array([[0.83839119]]), array([[59.3166244]]), array([[0.62790672]]), array([[14]], dtype=uint8), array(['average'], dtype='<U7'), array([], dtype='<U1')),\n",
       "        (array(['P7'], dtype='<U2'), array([[-0.50958331]]), array([[0.66999998]]), array([[-0.34145834]]), array([[127.65323766]]), array([[2.35015458]]), array([[0.84696197]]), array([[-127.25560698]]), array([[0.84176905]]), array([[15]], dtype=uint8), array(['average'], dtype='<U7'), array([], dtype='<U1')),\n",
       "        (array(['P8'], dtype='<U2'), array([[-0.50958331]]), array([[-0.66999998]]), array([[-0.34145834]]), array([[-127.65280273]]), array([[2.35013148]]), array([[0.84697029]]), array([[127.25560698]]), array([[0.84176905]]), array([[16]], dtype=uint8), array(['average'], dtype='<U7'), array([], dtype='<U1')),\n",
       "        (array(['Fz'], dtype='<U2'), array([[0.68041665]]), array([[-1.10745323e-16]]), array([[0.24854167]]), array([[-0.0004476]]), array([[42.86807797]]), array([[0.91829972]]), array([[9.32552075e-15]]), array([[0.68041665]]), array([[17]], dtype=uint8), array(['average'], dtype='<U7'), array([], dtype='<U1')),\n",
       "        (array(['Cz'], dtype='<U2'), array([[0.01041667]]), array([[1.23988683e-17]]), array([[0.49854167]]), array([[-0.0990278]]), array([[89.80073788]]), array([[0.87473619]]), array([[-6.81986515e-14]]), array([[0.01041667]]), array([[18]], dtype=uint8), array(['average'], dtype='<U7'), array([], dtype='<U1')),\n",
       "        (array(['Pz'], dtype='<U2'), array([[-0.65958331]]), array([[1.37006732e-16]]), array([[0.24854167]]), array([[-179.99954831]]), array([[43.12759479]]), array([[0.91384981]]), array([[-180]], dtype=int16), array([[0.65958331]]), array([[19]], dtype=uint8), array(['average'], dtype='<U7'), array([], dtype='<U1')),\n",
       "        (array(['FCz'], dtype='<U3'), array([[0.34041666]]), array([[-4.82876543e-17]]), array([[0.37354167]]), array([[-0.00090456]]), array([[66.04846336]]), array([[0.82037399]]), array([[8.12733064e-15]]), array([[0.34041666]]), array([[20]], dtype=uint8), array(['average'], dtype='<U7'), array([], dtype='<U1')),\n",
       "        (array(['Oz'], dtype='<U2'), array([[-0.84958337]]), array([[1.82221351e-16]]), array([[-0.34145834]]), array([[-179.99964846]]), array([[2.32081995]]), array([[0.85766141]]), array([[-180]], dtype=int16), array([[0.84958337]]), array([[21]], dtype=uint8), array(['average'], dtype='<U7'), array([], dtype='<U1')),\n",
       "        (array(['AFz'], dtype='<U3'), array([[0.84041669]]), array([[-1.40135672e-16]]), array([[-0.01145832]]), array([[-0.00036163]]), array([[23.64524959]]), array([[0.90938873]]), array([[9.55381142e-15]]), array([[0.84041669]]), array([[22]], dtype=uint8), array(['average'], dtype='<U7'), array([], dtype='<U1')),\n",
       "        (array(['CPz'], dtype='<U3'), array([[-0.32958334]]), array([[-5.40423961e-17]]), array([[0.42854169]]), array([[-179.99910595]]), array([[67.27990677]]), array([[0.87242906]]), array([[180]], dtype=uint8), array([[0.32958334]]), array([[23]], dtype=uint8), array(['average'], dtype='<U7'), array([], dtype='<U1')),\n",
       "        (array(['POz'], dtype='<U3'), array([[-0.81958335]]), array([[3.46816793e-16]]), array([[-0.01145832]]), array([[-179.99963571]]), array([[23.79994328]]), array([[0.90381856]]), array([[-180.]]), array([[0.81958335]]), array([[24]], dtype=uint8), array(['average'], dtype='<U7'), array([], dtype='<U1'))]],\n",
       "      dtype=[('labels', 'O'), ('X', 'O'), ('Y', 'O'), ('Z', 'O'), ('sph_theta', 'O'), ('sph_phi', 'O'), ('sph_radius', 'O'), ('theta', 'O'), ('radius', 'O'), ('urchan', 'O'), ('ref', 'O'), ('type', 'O')])"
      ]
     },
     "execution_count": 5,
     "metadata": {},
     "output_type": "execute_result"
    }
   ],
   "source": [
    "mat['EEG'][0,0]['chanlocs']"
   ]
  },
  {
   "cell_type": "code",
   "execution_count": 6,
   "metadata": {},
   "outputs": [
    {
     "data": {
      "text/plain": [
       "[('labels', '|O'),\n",
       " ('X', '|O'),\n",
       " ('Y', '|O'),\n",
       " ('Z', '|O'),\n",
       " ('sph_theta', '|O'),\n",
       " ('sph_phi', '|O'),\n",
       " ('sph_radius', '|O'),\n",
       " ('theta', '|O'),\n",
       " ('radius', '|O'),\n",
       " ('urchan', '|O'),\n",
       " ('ref', '|O'),\n",
       " ('type', '|O')]"
      ]
     },
     "execution_count": 6,
     "metadata": {},
     "output_type": "execute_result"
    }
   ],
   "source": [
    "mat['EEG'][0,0]['chanlocs'][0,0].dtype.descr"
   ]
  },
  {
   "cell_type": "code",
   "execution_count": 7,
   "metadata": {},
   "outputs": [
    {
     "data": {
      "text/plain": [
       "array(['Oz'], dtype='<U2')"
      ]
     },
     "execution_count": 7,
     "metadata": {},
     "output_type": "execute_result"
    }
   ],
   "source": [
    "mat['EEG'][0,0]['chanlocs'][0,20]['labels']"
   ]
  },
  {
   "cell_type": "code",
   "execution_count": 8,
   "metadata": {},
   "outputs": [
    {
     "data": {
      "text/plain": [
       "array(['POz'], dtype='<U3')"
      ]
     },
     "execution_count": 8,
     "metadata": {},
     "output_type": "execute_result"
    }
   ],
   "source": [
    "mat['EEG'][0,0]['chanlocs'][0,23]['labels']"
   ]
  },
  {
   "cell_type": "code",
   "execution_count": 9,
   "metadata": {},
   "outputs": [
    {
     "data": {
      "text/plain": [
       "array([[0.53041665]])"
      ]
     },
     "execution_count": 9,
     "metadata": {},
     "output_type": "execute_result"
    }
   ],
   "source": [
    "mat['EEG'][0,0]['chanlocs'][0,10]['X']"
   ]
  },
  {
   "cell_type": "code",
   "execution_count": 10,
   "metadata": {},
   "outputs": [
    {
     "data": {
      "text/plain": [
       "array([], dtype='<U1')"
      ]
     },
     "execution_count": 10,
     "metadata": {},
     "output_type": "execute_result"
    }
   ],
   "source": [
    "mat['EEG'][0,0]['chanlocs'][0,0]['type']"
   ]
  },
  {
   "cell_type": "code",
   "execution_count": null,
   "metadata": {},
   "outputs": [],
   "source": []
  }
 ],
 "metadata": {
  "kernelspec": {
   "display_name": "Python 3 (clean)",
   "language": "python",
   "name": "python3_clean"
  },
  "language_info": {
   "codemirror_mode": {
    "name": "ipython",
    "version": 3
   },
   "file_extension": ".py",
   "mimetype": "text/x-python",
   "name": "python",
   "nbconvert_exporter": "python",
   "pygments_lexer": "ipython3",
   "version": "3.7.6"
  }
 },
 "nbformat": 4,
 "nbformat_minor": 4
}
